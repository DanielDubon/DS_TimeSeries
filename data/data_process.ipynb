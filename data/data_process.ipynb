{
 "cells": [
  {
   "cell_type": "code",
   "execution_count": 7,
   "id": "abe34a73-7291-48ad-b1bb-2b0429d20842",
   "metadata": {},
   "outputs": [],
   "source": [
    "import os\n",
    "import pandas as pd\n",
    "\n",
    "xls = './IMPORTACION-HIDROCARBUROS-VOLUMEN-2025-05 (1).xlsx'\n",
    "\n",
    "os.makedirs('data', exist_ok=True)\n",
    "\n",
    "skip_top = 6\n",
    "skip_bottom \n",
    "\n",
    "df_imp = pd.read_excel(\n",
    "    xls,\n",
    "    sheet_name='IMPORTACION',\n",
    "    engine='openpyxl',\n",
    ")\n",
    "\n",
    "\n",
    "df_imp.to_csv('importacion2025.csv', index=False, encoding='utf-8-sig')"
   ]
  },
  {
   "cell_type": "code",
   "execution_count": null,
   "id": "d11975d4-2e90-4b04-951e-769125f45126",
   "metadata": {},
   "outputs": [],
   "source": [
    "xls = './Estadisticas_historicas_comercializacion (1).xlsx'"
   ]
  }
 ],
 "metadata": {
  "kernelspec": {
   "display_name": "Python 3 (ipykernel)",
   "language": "python",
   "name": "python3"
  },
  "language_info": {
   "codemirror_mode": {
    "name": "ipython",
    "version": 3
   },
   "file_extension": ".py",
   "mimetype": "text/x-python",
   "name": "python",
   "nbconvert_exporter": "python",
   "pygments_lexer": "ipython3",
   "version": "3.10.12"
  }
 },
 "nbformat": 4,
 "nbformat_minor": 5
}
