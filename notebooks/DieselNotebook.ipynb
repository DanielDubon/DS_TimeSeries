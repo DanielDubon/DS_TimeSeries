{
 "cells": [
  {
   "cell_type": "markdown",
   "id": "ced07e02",
   "metadata": {},
   "source": [
    "# Análisis de Serie Temporal - Consumo de Diésel\n",
    "\n",
    "Este notebook documenta el análisis de la serie temporal del consumo de diésel, cubriendo las etapas requeridas en el laboratorio:\n",
    "\n",
    "- Análisis exploratorio.\n",
    "- Serie univariante.\n",
    "- Descomposición y evaluación de componentes.\n",
    "- Estacionariedad y transformación.\n",
    "- Modelado ARIMA y Prophet.\n",
    "- Comparación y selección del mejor modelo."
   ]
  },
  {
   "cell_type": "markdown",
   "id": "45bd5eb0",
   "metadata": {},
   "source": [
    "## Consolidación de Subcategorías de Diésel\n",
    "\n",
    "Agrupamos las siguientes columnas:\n",
    "\n",
    "- Diesel alto azufre\n",
    "- Diesel bajo azufre\n",
    "- Diesel ultra bajo azufre\n",
    "\n",
    "En una sola columna llamada `Diesel`."
   ]
  },
  {
   "cell_type": "code",
   "execution_count": 7,
   "id": "e38c0db2",
   "metadata": {},
   "outputs": [
    {
     "name": "stdout",
     "output_type": "stream",
     "text": [
      "       Fecha     Diesel\n",
      "0 2001-01-01  566101.99\n",
      "1 2001-02-01  489525.80\n",
      "2 2001-03-01  575559.68\n",
      "3 2001-04-01  437745.42\n",
      "4 2001-05-01  552609.13\n",
      "       Fecha     Diesel\n",
      "0 2000-01-01  634667.06\n",
      "1 2000-02-01  642380.66\n",
      "2 2000-03-01  699807.25\n",
      "3 2000-04-01  586803.98\n",
      "4 2000-05-01  656948.20\n"
     ]
    }
   ],
   "source": [
    "import pandas as pd\n",
    "\n",
    "# Cargar datos\n",
    "df_import = pd.read_csv('../data/importacion.csv', parse_dates=['Fecha'])\n",
    "df_cons = pd.read_csv('../data/consumo.csv', parse_dates=['Fecha'])\n",
    "\n",
    "# Combinar columnas de diésel\n",
    "diesel_cols = ['Diesel alto azufre', 'Diesel bajo azufre', 'Diesel ultra bajo azufre']\n",
    "\n",
    "# Verificar columnas\n",
    "for col in diesel_cols:\n",
    "    if col not in df_import.columns:\n",
    "        print(f\"Columna faltante en importacion: {col}\")\n",
    "    if col not in df_cons.columns:\n",
    "        print(f\"Columna faltante en consumo: {col}\")\n",
    "\n",
    "# Crear columna Diesel\n",
    "df_import['Diesel'] = df_import[diesel_cols].sum(axis=1)\n",
    "df_cons['Diesel'] = df_cons[diesel_cols].sum(axis=1)\n",
    "\n",
    "# Filtrar columnas relevantes\n",
    "cols = ['Fecha', 'Diesel']\n",
    "df_import = df_import[cols].copy()\n",
    "df_cons = df_cons[cols].copy()\n",
    "\n",
    "# Revisar que esten bien\n",
    "print(df_import.head())\n",
    "print(df_cons.head()) "
   ]
  }
 ],
 "metadata": {
  "kernelspec": {
   "display_name": "venv",
   "language": "python",
   "name": "python3"
  },
  "language_info": {
   "codemirror_mode": {
    "name": "ipython",
    "version": 3
   },
   "file_extension": ".py",
   "mimetype": "text/x-python",
   "name": "python",
   "nbconvert_exporter": "python",
   "pygments_lexer": "ipython3",
   "version": "3.12.5"
  }
 },
 "nbformat": 4,
 "nbformat_minor": 5
}
