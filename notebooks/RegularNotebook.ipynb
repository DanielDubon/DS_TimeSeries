{
 "cells": [
  {
   "cell_type": "code",
   "execution_count": 1,
   "id": "a5dde928-f0d7-4ef8-8bef-551fb58e92c9",
   "metadata": {},
   "outputs": [],
   "source": [
    "import pandas as pd\n",
    "import numpy as np\n",
    "import matplotlib.pyplot as plt\n",
    "import statsmodels.tsa as tsa\n",
    "import statsmodels as sm\n",
    "from datetime import datetime\n",
    "from statsmodels.tsa.stattools import adfuller\n",
    "from statsmodels.tsa.seasonal import seasonal_decompose\n",
    "from statsmodels.tsa.stattools import acf, pacf\n",
    "from statsmodels.tsa.arima_model import ARIMA\n",
    "from statsmodels.tsa.statespace.sarimax import SARIMAX\n"
   ]
  },
  {
   "cell_type": "code",
   "execution_count": null,
   "id": "a4957ed9-a361-499c-aef2-f56c42f243c8",
   "metadata": {},
   "outputs": [],
   "source": [
    "\n",
    "dateparse = lambda dates: datetime.strptime(dates, '%Y-%m')\n",
    "airPas = pd.read_csv('AirPassengers.csv', parse_dates=['Month'], index_col='Month',date_parser=dateparse)\n",
    "print ('\\n Parsed Data:')\n",
    "airPas.head()\n",
    "\n",
    "train_size = int(len(airPas) * 0.7)\n",
    "print(train_size)\n",
    "train_airPas = airPas[0:train_size]\n",
    "test_airPas = airPas[train_size:len(airPas)]\n"
   ]
  }
 ],
 "metadata": {
  "kernelspec": {
   "display_name": "Python 3 (ipykernel)",
   "language": "python",
   "name": "python3"
  },
  "language_info": {
   "codemirror_mode": {
    "name": "ipython",
    "version": 3
   },
   "file_extension": ".py",
   "mimetype": "text/x-python",
   "name": "python",
   "nbconvert_exporter": "python",
   "pygments_lexer": "ipython3",
   "version": "3.10.12"
  }
 },
 "nbformat": 4,
 "nbformat_minor": 5
}
